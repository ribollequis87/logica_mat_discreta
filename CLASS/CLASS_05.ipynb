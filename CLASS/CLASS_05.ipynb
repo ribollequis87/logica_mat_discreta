{
  "nbformat": 4,
  "nbformat_minor": 0,
  "metadata": {
    "colab": {
      "provenance": []
    },
    "kernelspec": {
      "name": "python3",
      "display_name": "Python 3"
    },
    "language_info": {
      "name": "python"
    }
  },
  "cells": [
    {
      "cell_type": "markdown",
      "source": [
        "<div class=\"alert alert-block alert-info\">\n",
        "\n",
        "#**CLASS 05 - LINEAR TEMPORAL LOGIC (LTL) - PART III**\n",
        "**Learning Objectives:**\n",
        "*   Reviewing of LTL Operators (unary + binary operators)\n",
        "*   Kripke Structures\n",
        "*   Model Checking in PL (Propositional Logic) and LTL\n",
        "*  Implementation of Model Checking with PL and LTL\n",
        "</div>\n"
      ],
      "metadata": {
        "id": "33EEpDW7pOaO"
      }
    },
    {
      "cell_type": "markdown",
      "source": [
        "## **LTL OPERATORS REVIEW**\n",
        "\n",
        "A PL (Propositional Logic) formula is either:\n",
        "\n",
        "* ⊤ (**true**) or ⊥ (**false**)\n",
        "* a propositional variable\n",
        "* ¬𝜑1, 𝜑1∧𝜑2, 𝜑1∨𝜑2, or 𝜑1→𝜑2 where both 𝜑1 and 𝜑2 are PL formulas\n",
        "\n",
        "LTL (Linear Temporal Logic) formulas have the form 𝐴𝜌 where 𝜌 is a LTL path formula and a LTL path formula is either:\n",
        "\n",
        "* ⊤ or ⊥\n",
        "*  propositional variable\n",
        "*  ¬𝜑1, 𝜑1∧𝜑2, 𝜑1∨𝜑2, or 𝜑1→𝜑2, where both 𝜑1 and 𝜑2 are LTL path formulas\n",
        "* 𝐗𝜑1, 𝐅𝜑1, 𝐆𝜑1, 𝜑1𝐔𝜑2, or 𝜑1𝐑𝜑2 where both 𝜑1 and 𝜑2 are LTL path formulas.\n"
      ],
      "metadata": {
        "id": "3ypLUjyP2u9Q"
      }
    },
    {
      "cell_type": "markdown",
      "source": [
        "**KRIPKE STRUCTURES**\n",
        "\n",
        "A Kripke structure is a **directed graph**, equipped with a set of initial nodes, such that **every node** is source of some edge and it **is labeled by a set of atomic propositions**. The nodes of Kripke structure are called states:\n",
        "\n",
        "A Kripke structure is a tuple (𝑆,𝑆0,𝑅,𝐿) such that:\n",
        "\n",
        "* 𝑆 is a finite set of states\n",
        "* 𝑆0⊆𝑆 is a set of initial states\n",
        "* 𝑅⊆𝑆×𝑆 is a set of transitions such that for all 𝑠∈𝑆 there exists a (𝑠,𝑠′)∈𝑅 for some 𝑠′∈𝑆\n",
        "* 𝐿:𝑆→2^{AP} maps each state into a set of atomic propositions. Sometimes, the set of initial states is omitted. In such cases, 𝑆 and 𝑆0 coincide.\n",
        "\n",
        "A computation of a Kripke structure (𝑆,𝑆0,𝑅,𝐿) is an infinite path of (𝑆,𝑅) that starts from some 𝑠∈𝑆0. In the following code we are specifying a Kripke structure using the Python module pyModelChecking."
      ],
      "metadata": {
        "id": "kZZ_vmTNGigT"
      }
    },
    {
      "cell_type": "code",
      "source": [
        "!pip install pyModelChecking"
      ],
      "metadata": {
        "id": "Qu_lkt5DKjqG",
        "outputId": "97702f59-74ce-4f89-94a6-1b5e0974d186",
        "colab": {
          "base_uri": "https://localhost:8080/"
        }
      },
      "execution_count": null,
      "outputs": [
        {
          "output_type": "stream",
          "name": "stdout",
          "text": [
            "Collecting pyModelChecking\n",
            "  Downloading pyModelChecking-1.3.3-py3-none-any.whl (47 kB)\n",
            "\u001b[2K     \u001b[90m━━━━━━━━━━━━━━━━━━━━━━━━━━━━━━━━━━━━━━━━\u001b[0m \u001b[32m47.4/47.4 kB\u001b[0m \u001b[31m1.3 MB/s\u001b[0m eta \u001b[36m0:00:00\u001b[0m\n",
            "\u001b[?25hCollecting lark-parser (from pyModelChecking)\n",
            "  Downloading lark_parser-0.12.0-py2.py3-none-any.whl (103 kB)\n",
            "\u001b[2K     \u001b[90m━━━━━━━━━━━━━━━━━━━━━━━━━━━━━━━━━━━━━━━━\u001b[0m \u001b[32m103.5/103.5 kB\u001b[0m \u001b[31m4.6 MB/s\u001b[0m eta \u001b[36m0:00:00\u001b[0m\n",
            "\u001b[?25hInstalling collected packages: lark-parser, pyModelChecking\n",
            "Successfully installed lark-parser-0.12.0 pyModelChecking-1.3.3\n"
          ]
        }
      ]
    },
    {
      "cell_type": "code",
      "source": [
        "from pyModelChecking import Kripke\n",
        "\n",
        "K=Kripke(S=[0,1,2], S0=[0], R=[(0,1),(1,2),(2,2)], L={0: set(['p']), 1:set(['p','q']), 2: set([''])})"
      ],
      "metadata": {
        "id": "vl5DEMkfMaLa"
      },
      "execution_count": null,
      "outputs": []
    },
    {
      "cell_type": "markdown",
      "source": [
        "**EXERCISE 1**\n",
        "\n",
        "Interpret the Kripke Structure K:"
      ],
      "metadata": {
        "id": "Znjg8MrRM8Df"
      }
    },
    {
      "cell_type": "markdown",
      "source": [
        "Type your interpretation here\n",
        "\n",
        "\n",
        "\n"
      ],
      "metadata": {
        "id": "ClmrJBDJNTek"
      }
    },
    {
      "cell_type": "markdown",
      "source": [
        "**EXERCISE 2**\n",
        "\n",
        "Implement a Kripke Structure for the following Python program:\n",
        "\n",
        "x=3\n",
        "\n",
        "y=x+1\n"
      ],
      "metadata": {
        "id": "ctTfJL7wZ5Ta"
      }
    },
    {
      "cell_type": "code",
      "source": [
        "#TYPE YOUR IMPLEMENTATION HERE\n",
        "\n",
        "# x=3.   ESTADO 0    p=\"x igual a 3\" ou x_igual_a_3\n",
        "\n",
        "# y=x+1. ESTADO 1    q=\"y==4\" (y_igual_a_4) ou q=\"y>x\" ou q=\"x<y\"\n",
        "\n",
        "K=Kripke(S=[0,1],\n",
        "        S0=[0],\n",
        "        R=[(0,1), (1,1)],\n",
        "        L={0: set(['x_igual_a_3']),\n",
        "           1:set(['x_igual_a_3','y_igual_a_4'])})"
      ],
      "metadata": {
        "id": "OE6b9IYhhvPz",
        "outputId": "6746383e-91ca-464b-f7cd-b14b096e4ebb",
        "colab": {
          "base_uri": "https://localhost:8080/",
          "height": 211
        }
      },
      "execution_count": null,
      "outputs": [
        {
          "output_type": "error",
          "ename": "NameError",
          "evalue": "name 'Kripke' is not defined",
          "traceback": [
            "\u001b[0;31m---------------------------------------------------------------------------\u001b[0m",
            "\u001b[0;31mNameError\u001b[0m                                 Traceback (most recent call last)",
            "\u001b[0;32m<ipython-input-1-231c796169d2>\u001b[0m in \u001b[0;36m<cell line: 7>\u001b[0;34m()\u001b[0m\n\u001b[1;32m      5\u001b[0m \u001b[0;31m# y=x+1. ESTADO 1    q=\"y==4\" (y_igual_a_4) ou q=\"y>x\" ou q=\"x<y\"\u001b[0m\u001b[0;34m\u001b[0m\u001b[0;34m\u001b[0m\u001b[0m\n\u001b[1;32m      6\u001b[0m \u001b[0;34m\u001b[0m\u001b[0m\n\u001b[0;32m----> 7\u001b[0;31m K=Kripke(S=[0,1],\n\u001b[0m\u001b[1;32m      8\u001b[0m         \u001b[0mS0\u001b[0m\u001b[0;34m=\u001b[0m\u001b[0;34m[\u001b[0m\u001b[0;36m0\u001b[0m\u001b[0;34m]\u001b[0m\u001b[0;34m,\u001b[0m\u001b[0;34m\u001b[0m\u001b[0;34m\u001b[0m\u001b[0m\n\u001b[1;32m      9\u001b[0m         \u001b[0mR\u001b[0m\u001b[0;34m=\u001b[0m\u001b[0;34m[\u001b[0m\u001b[0;34m(\u001b[0m\u001b[0;36m0\u001b[0m\u001b[0;34m,\u001b[0m\u001b[0;36m1\u001b[0m\u001b[0;34m)\u001b[0m\u001b[0;34m,\u001b[0m \u001b[0;34m(\u001b[0m\u001b[0;36m1\u001b[0m\u001b[0;34m,\u001b[0m\u001b[0;36m1\u001b[0m\u001b[0;34m)\u001b[0m\u001b[0;34m]\u001b[0m\u001b[0;34m,\u001b[0m\u001b[0;34m\u001b[0m\u001b[0;34m\u001b[0m\u001b[0m\n",
            "\u001b[0;31mNameError\u001b[0m: name 'Kripke' is not defined"
          ]
        }
      ]
    },
    {
      "cell_type": "markdown",
      "source": [
        "**EXERCISE 3**\n",
        "\n",
        "Implement a Kripke Structure for the following Python program:\n",
        "\n",
        "x=5\n",
        "\n",
        "if x>0:\n",
        "\n",
        "    y=1;\n",
        "\n",
        "else:\n",
        "\n",
        "    y=0"
      ],
      "metadata": {
        "id": "fyy-ndu7n8KR"
      }
    },
    {
      "cell_type": "code",
      "source": [
        "#TYPE YOUR IMPLEMENTATION HERE\n",
        "\n",
        "# x=5.      ESTADO 0    p=\"x igual a 5\" ou x_igual_a_5\n",
        "\n",
        "# if x>0:\n",
        "#     y=1   ESTADO 1    q=\"y==1\" (y_igual_a_1) ou q=\"y<x\" ou q=\"x>y\"\n",
        "# else:\n",
        "#     y=0   ESTADO 2    q=\"y==0\" (y_igual_a_0) ou q=\"y<x\" ou q=\"x>y\"\n",
        "#           ESTADO 3 -> interromper a execução\n",
        "\n",
        "K=Kripke(S=[0,1,2,3],\n",
        "        S0=[0],\n",
        "        R=[(0,1), (0,2), (1,3), (2,3), (3,3)],\n",
        "        L={0: set(['x_igual_a_5']),\n",
        "           1:set(['x_maior_que_0, y_igual_a_1']),\n",
        "           2:set(['x_menorigual_que_0, y_igual_a_0']),\n",
        "           3:set(['y_igual_a_1 or y_igual_a_0'])})\n"
      ],
      "metadata": {
        "id": "i0FTaBTwoUlo"
      },
      "execution_count": null,
      "outputs": []
    },
    {
      "cell_type": "markdown",
      "source": [
        "**EXERCISE 4**\n",
        "\n",
        "Implement a Kripke Structure for the following Python program:\n",
        "\n",
        "x=5\n",
        "\n",
        "while x>0:\n",
        "\n",
        "    x=x-1"
      ],
      "metadata": {
        "id": "ZzOscFM8oayy"
      }
    },
    {
      "cell_type": "code",
      "source": [
        "#TYPE YOUR IMPLEMENTATION HERE\n",
        "\n",
        "# x=5           ESTADO 0    p=\"x igual a 5\" ou x_igual_a_5\n",
        "\n",
        "# while x>0:    ESTADO 1\n",
        "\n",
        "#     x=x-1     ESTADO 2\n",
        "#               ESTADO 3\n",
        "\n",
        "K=Kripke(S=[0,1,2,3],\n",
        "        S0=[0],\n",
        "        R=[(0,1), (1,1), (1,2), (2,3), (3,3)], # 1 voltar para o 1 significa ficar no while\n",
        "        L={0: set(['x_igual_a_5']),\n",
        "           1:set(['x_maior_que_0', 'x_menos_igual_a_1']),\n",
        "           2:set(['x_menorigual_a_0']),\n",
        "           3:set([''])})"
      ],
      "metadata": {
        "id": "cbWIjUcHog8K"
      },
      "execution_count": null,
      "outputs": []
    },
    {
      "cell_type": "markdown",
      "source": [
        "**SEMANTICS**\n",
        "\n",
        "If 𝐾 is a Kripke structure, 𝑠 one of its states, and 𝜑 a propositional formula, we write 𝐾,𝑠⊨𝜑 (to be read “𝐾 and 𝑠 satisfy 𝜑 ”) meaning that 𝜑 holds at state 𝑠 in 𝐾.\n",
        "\n",
        "Let 𝐾 be the Kripke structure (𝑆,𝑆0,𝑅,𝐿); the relation ⊨ is defined recursively as follows:\n",
        "\n",
        "* 𝐾,𝑠⊨⊤ and 𝐾,𝑠⊭⊥ for any state 𝑠∈𝑆\n",
        "* if 𝑝∈𝐴𝑃, then 𝐾,𝑠⊨𝑝 ⟺ 𝑝∈𝐿(𝑠)\n",
        "* 𝐾,𝑠⊨¬𝜑 ⟺ 𝐾,𝑠⊭𝜑\n",
        "* 𝐾,𝑠⊨𝜑1∧𝜑2 ⟺ 𝐾,𝑠⊨𝜑1 and 𝐾,𝑠⊨𝜑2\n",
        "* 𝐾,𝑠⊨𝜑1∨𝜑2 ⟺ 𝐾,𝑠⊨𝜑1 or 𝐾,𝑠⊨𝜑2\n",
        "* 𝐾,𝑠⊨𝜑1→𝜑2 ⟺ 𝐾,𝑠⊭𝜑1 or 𝐾,𝑠⊨𝜑2"
      ],
      "metadata": {
        "id": "ldH4O8QG_22o"
      }
    },
    {
      "cell_type": "markdown",
      "source": [
        "**MODEL CHECKING**\n",
        "\n",
        "Model checking is a technique to establish the set of states in Kripke structure that satisfy a given temporal formula. More formally, provided a Kripke structure 𝐾=(𝑆,𝑆0,𝑅,𝐿) and a temporal formula 𝜑, model checking aims to identify 𝑆′⊆𝑆 such that 𝐾,𝑠𝑖⊨𝜑 for all 𝑠𝑖∈𝑆′.\n"
      ],
      "metadata": {
        "id": "70oTPRG9Bzl9"
      }
    },
    {
      "cell_type": "code",
      "source": [
        "from pyModelChecking import *\n",
        "from pyModelChecking.LTL import *\n",
        "\n",
        "K=Kripke(R=[(0,0),(0,1),(1,2),(2,2),(3,3)], L={0: set(['p']), 1:set(['p','q']),3:set(['p'])})\n",
        "modelcheck(K,'A (p)')"
      ],
      "metadata": {
        "id": "Z38_z_zjFq82",
        "outputId": "f38397d6-e1a5-4930-9370-eb916b1c53b5",
        "colab": {
          "base_uri": "https://localhost:8080/"
        }
      },
      "execution_count": null,
      "outputs": [
        {
          "output_type": "execute_result",
          "data": {
            "text/plain": [
              "{0, 1, 3}"
            ]
          },
          "metadata": {},
          "execution_count": 5
        }
      ]
    },
    {
      "cell_type": "code",
      "source": [
        "modelcheck(K,'A (q)')"
      ],
      "metadata": {
        "id": "GqhrShggJ8FK"
      },
      "execution_count": null,
      "outputs": []
    },
    {
      "cell_type": "code",
      "source": [
        "modelcheck(K,'A (not q)')"
      ],
      "metadata": {
        "id": "wlCupPIsKDL3"
      },
      "execution_count": null,
      "outputs": []
    },
    {
      "cell_type": "code",
      "source": [
        "modelcheck(K,'A (p & q)')"
      ],
      "metadata": {
        "id": "4zhHokPpJjns",
        "outputId": "c72724e6-9d4e-425c-930a-1337d2c22a1d",
        "colab": {
          "base_uri": "https://localhost:8080/"
        }
      },
      "execution_count": null,
      "outputs": [
        {
          "output_type": "execute_result",
          "data": {
            "text/plain": [
              "{1}"
            ]
          },
          "metadata": {},
          "execution_count": 44
        }
      ]
    },
    {
      "cell_type": "markdown",
      "source": [
        "**EXERCISE 5**\n",
        "\n",
        "Implement a Kripke Structure for the following Python program and check some formulas:\n",
        "\n",
        "x=3\n",
        "\n",
        "y=x+1"
      ],
      "metadata": {
        "id": "MTap92zvKq_R"
      }
    },
    {
      "cell_type": "code",
      "source": [
        "#TYPE YOUR IMPLEMENTATION HERE\n",
        "\n",
        "# x=3.   ESTADO 0    p=\"x igual a 3\" ou x_igual_a_3\n",
        "\n",
        "# y=x+1. ESTADO 1    q=\"y==4\" (y_igual_a_4) ou q=\"y>x\" ou q=\"x<y\"\n",
        "\n",
        "K=Kripke(S=[0,1],\n",
        "        S0=[0],\n",
        "        R=[(0,1), (1,1)],\n",
        "        L={0: set(['x_igual_a_3']),\n",
        "           1:set(['x_igual_a_3','y_igual_a_4'])})\n"
      ],
      "metadata": {
        "id": "7UAHpWUyK3cT"
      },
      "execution_count": null,
      "outputs": []
    },
    {
      "cell_type": "code",
      "source": [
        "modelcheck(K,'A (x_igual_a_3)')"
      ],
      "metadata": {
        "id": "mfisUfG13pf8",
        "outputId": "e2b8891c-438a-47a4-adda-0325104908dc",
        "colab": {
          "base_uri": "https://localhost:8080/"
        }
      },
      "execution_count": null,
      "outputs": [
        {
          "output_type": "execute_result",
          "data": {
            "text/plain": [
              "{0, 1}"
            ]
          },
          "metadata": {},
          "execution_count": 9
        }
      ]
    },
    {
      "cell_type": "code",
      "source": [
        "modelcheck(K,'A (y_igual_a_4)')"
      ],
      "metadata": {
        "id": "iGoLrzgn4E1h",
        "outputId": "e8bef066-d146-45dc-b558-d1957a1866ad",
        "colab": {
          "base_uri": "https://localhost:8080/"
        }
      },
      "execution_count": null,
      "outputs": [
        {
          "output_type": "execute_result",
          "data": {
            "text/plain": [
              "{1}"
            ]
          },
          "metadata": {},
          "execution_count": 11
        }
      ]
    },
    {
      "cell_type": "markdown",
      "source": [
        "**EXERCISE 6**\n",
        "\n",
        "Implement a Kripke Structure for the following Python program and check some formulas:\n",
        "\n",
        "x=5\n",
        "\n",
        "if x>0:\n",
        "\n",
        "    y=1;\n",
        "\n",
        "else:\n",
        "\n",
        "    y=0"
      ],
      "metadata": {
        "id": "mOIVhYL-K57Z"
      }
    },
    {
      "cell_type": "code",
      "source": [
        "#TYPE YOUR IMPLEMENTATION HERE"
      ],
      "metadata": {
        "id": "UxFl4O-aLHyN"
      },
      "execution_count": null,
      "outputs": []
    },
    {
      "cell_type": "markdown",
      "source": [
        "**EXERCISE 7**\n",
        "\n",
        "Implement a Kripke Structure for the following Python program and check some formulas:\n",
        "\n",
        "x=5\n",
        "\n",
        "while x>0:\n",
        "\n",
        "    x=x-1"
      ],
      "metadata": {
        "id": "vMsYXwcZLPMe"
      }
    },
    {
      "cell_type": "code",
      "source": [
        "#TYPE YOUR IMPLEMENTATION HERE"
      ],
      "metadata": {
        "id": "OuaoO-6NLUqj"
      },
      "execution_count": null,
      "outputs": []
    },
    {
      "cell_type": "markdown",
      "source": [
        "### **HOMEWORK**"
      ],
      "metadata": {
        "id": "keKsSkvVT5Xn"
      }
    },
    {
      "cell_type": "markdown",
      "source": [
        "**EXERCISE 1**\n",
        "\n",
        "Implement a Kripke Structure for the following Python program and check some formulas:\n",
        "\n",
        "V=[4,2,5,6,8]\n",
        "\n",
        "max=0\n",
        "\n",
        "for i in range(size(V)):\n",
        "\n",
        "    if V[i]>max:\n",
        "\n",
        "      max=V[i]"
      ],
      "metadata": {
        "id": "LQSx58gPL5Tp"
      }
    },
    {
      "cell_type": "code",
      "source": [
        "#TYPE YOUR IMPLEMENTATION HERE\n",
        "\n",
        "K=Kripke(S=[0,1,2,3],\n",
        "         S0=[0],\n",
        "         R=[(0,1),(1,2),(2,3),(3,2)],\n",
        "         L={1:set(['v0_4','v1_2','v2_5','v3_6','v4_8']),\n",
        "            2:set(['max_m_0','v0_4','v1_2','v2_5','v3_6','v4_8']),\n",
        "            3:set(['max_m_0','v0_4','v1_2','v2_5','v3_6','v4_8'])})"
      ],
      "metadata": {
        "id": "fKP-gxxiM78c"
      },
      "execution_count": null,
      "outputs": []
    },
    {
      "cell_type": "markdown",
      "source": [
        "**EXERCISE 2**\n",
        "\n",
        "Implement a Kripke Structure for the following Python program and check some formulas:\n",
        "\n",
        "V=[4,2,5,6,8]\n",
        "\n",
        "max=0\n",
        "\n",
        "for i in range(size(V)-1):\n",
        "\n",
        "    for j in range(size(V)):\n",
        "\n",
        "      if V[j]<V[i]:\n",
        "\n",
        "        aux = V[i]\n",
        "\n",
        "        V[i]=V[j]\n",
        "\n",
        "        V[j]=aux\n",
        "\n",
        "\n",
        "    "
      ],
      "metadata": {
        "id": "1L7DXf1dNEar"
      }
    },
    {
      "cell_type": "code",
      "source": [
        "#TYPE YOUR SOLUTION HERE"
      ],
      "metadata": {
        "id": "s_9emTZHNze9"
      },
      "execution_count": null,
      "outputs": []
    }
  ]
}