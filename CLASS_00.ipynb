{
  "nbformat": 4,
  "nbformat_minor": 0,
  "metadata": {
    "colab": {
      "provenance": [],
      "include_colab_link": true
    },
    "kernelspec": {
      "name": "python3",
      "display_name": "Python 3"
    },
    "language_info": {
      "name": "python"
    }
  },
  "cells": [
    {
      "cell_type": "markdown",
      "metadata": {
        "id": "view-in-github",
        "colab_type": "text"
      },
      "source": [
        "<a href=\"https://colab.research.google.com/github/ribollequis87/logica_mat_discreta/blob/main/CLASS_00.ipynb\" target=\"_parent\"><img src=\"https://colab.research.google.com/assets/colab-badge.svg\" alt=\"Open In Colab\"/></a>"
      ]
    },
    {
      "cell_type": "markdown",
      "source": [
        "<div class=\"alert alert-block alert-info\">\n",
        "\n",
        "#**CLASS 00 - MOTIVATION TO LOGIC AND DISCRETE MATHEMATICS**\n",
        "**Learning Objectives:**\n",
        "*   Building a simple program to solve a simple discrete problem\n",
        "*   Refining this simple program\n",
        "*   Proving the program correctness\n",
        "*   Analysis of program efficiency\n",
        "\n",
        "</div>\n"
      ],
      "metadata": {
        "id": "33EEpDW7pOaO"
      }
    },
    {
      "cell_type": "markdown",
      "source": [
        "### **EXERCISE 1.**\n",
        "\n",
        "We define the factorial n! of an natural number as:\n",
        "\n",
        "*   0! = 1\n",
        "*   n! = nx(n-1)x(n-2)x...x2x1, if n>0\n",
        "\n",
        "Build an iteractive function fact(n) in Python to compute n! and test it:\n",
        "\n"
      ],
      "metadata": {
        "id": "iyV-u81mKdDo"
      }
    },
    {
      "cell_type": "code",
      "source": [
        "def fact1(n):\n",
        "  if n == 0:\n",
        "    return n+1\n",
        "\n",
        "  resultado = n\n",
        "\n",
        "  while n>=2:\n",
        "    n = n-1\n",
        "    resultado *= n\n",
        "  return resultado\n",
        "\n",
        "def fact2(n):\n",
        "  resultado = 1\n",
        "  for i in range(1,n+1):\n",
        "    resultado = resultado * i\n",
        "  return resultado\n",
        "\n",
        "print(fact1(7),fact2(7))"
      ],
      "metadata": {
        "id": "qqIisS25pMm5",
        "outputId": "a16d62e4-76d6-43ad-84cf-cb125349bd48",
        "colab": {
          "base_uri": "https://localhost:8080/"
        }
      },
      "execution_count": 26,
      "outputs": [
        {
          "output_type": "stream",
          "name": "stdout",
          "text": [
            "5040 5040\n"
          ]
        }
      ]
    },
    {
      "cell_type": "markdown",
      "source": [
        "### **EXERCISE 2.**\n",
        "\n",
        "Rewrite the function fact(n) in a simpler way and test it:"
      ],
      "metadata": {
        "id": "IiH2Xppf6rbg"
      }
    },
    {
      "cell_type": "code",
      "source": [
        "def fact3(n): return 1 if n == 0 else n * fact3(n-1)\n",
        "print(fact3(7))"
      ],
      "metadata": {
        "id": "Tc2TcLCK7BPw",
        "outputId": "7ec39d01-0ce7-4fbe-8d7d-47c10d65be03",
        "colab": {
          "base_uri": "https://localhost:8080/"
        }
      },
      "execution_count": 24,
      "outputs": [
        {
          "output_type": "stream",
          "name": "stdout",
          "text": [
            "5040\n"
          ]
        }
      ]
    },
    {
      "cell_type": "markdown",
      "source": [
        "### **EXERCISE 3.**\n",
        "\n",
        "Prove that your function fact(n) computes n!:"
      ],
      "metadata": {
        "id": "sWzDnukBLtoX"
      }
    },
    {
      "cell_type": "markdown",
      "source": [
        "* caso-base: n=0, fact3(0)=1=0! (OK)\n",
        "* passo indutivo: assuma o resultado válido para n>0. Vamos provar para n+1.\n",
        "  fact(n+1)= (n+1)*fact(n)=(n+1)*n!=(n+1)!"
      ],
      "metadata": {
        "id": "ferrSHvoMLtt"
      }
    },
    {
      "cell_type": "markdown",
      "source": [
        "### **EXERCISE 4.**\n",
        "\n",
        "How many multiplications does your fact(n) implementation use ?"
      ],
      "metadata": {
        "id": "6RRRVjqpMVWM"
      }
    },
    {
      "cell_type": "markdown",
      "source": [
        "Seja T(n) o número de multiplicações com n, T(0)=0, T(n)=1+T(n-1), se n>0. Resolvendo esta recorrência, obtemos T(n)=n"
      ],
      "metadata": {
        "id": "rICemo4iMnZA"
      }
    }
  ]
}